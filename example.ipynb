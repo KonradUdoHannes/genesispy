{
 "cells": [
  {
   "cell_type": "markdown",
   "metadata": {},
   "source": [
    "# Client Example"
   ]
  },
  {
   "cell_type": "code",
   "execution_count": 1,
   "metadata": {},
   "outputs": [],
   "source": [
    "from client import GenesisClient\n",
    "import pandas as pd"
   ]
  },
  {
   "cell_type": "code",
   "execution_count": 2,
   "metadata": {},
   "outputs": [],
   "source": [
    "gc = GenesisClient()"
   ]
  },
  {
   "cell_type": "markdown",
   "metadata": {},
   "source": [
    "### High level API Info"
   ]
  },
  {
   "cell_type": "code",
   "execution_count": 3,
   "metadata": {},
   "outputs": [
    {
     "data": {
      "text/plain": [
       "['helloworld', 'metadata', 'catalogue', 'data', 'find', 'profile']"
      ]
     },
     "execution_count": 3,
     "metadata": {},
     "output_type": "execute_result"
    }
   ],
   "source": [
    "gc.api_info([])"
   ]
  },
  {
   "cell_type": "markdown",
   "metadata": {},
   "source": [
    "### *catalogue* level API Info"
   ]
  },
  {
   "cell_type": "code",
   "execution_count": 4,
   "metadata": {},
   "outputs": [
    {
     "data": {
      "text/plain": [
       "['results',\n",
       " 'cubes2variable',\n",
       " 'jobs',\n",
       " 'cubes',\n",
       " 'cubes2statistic',\n",
       " 'modifieddata',\n",
       " 'qualitysigns',\n",
       " 'statistics',\n",
       " 'statistics2variable',\n",
       " 'tables',\n",
       " 'tables2statistic',\n",
       " 'tables2variable',\n",
       " 'terms',\n",
       " 'timeseries',\n",
       " 'timeseries2statistic',\n",
       " 'timeseries2variable',\n",
       " 'values2variable',\n",
       " 'variables',\n",
       " 'variables2statistic',\n",
       " 'values']"
      ]
     },
     "execution_count": 4,
     "metadata": {},
     "output_type": "execute_result"
    }
   ],
   "source": [
    "gc.api_info(['catalogue'])"
   ]
  },
  {
   "cell_type": "markdown",
   "metadata": {},
   "source": [
    "### *catalogue/variables* endpoint API info"
   ]
  },
  {
   "cell_type": "code",
   "execution_count": 5,
   "metadata": {},
   "outputs": [
    {
     "data": {
      "text/plain": [
       "{'id': 'variables',\n",
       " 'method': 'GET',\n",
       " 'auth/page/language': (True, True, True),\n",
       " 'params': [{'name': 'selection', 'style': 'query', 'type': 'xs:string', 'default': ''},\n",
       "  {'name': 'area', 'style': 'query', 'type': 'xs:string', 'default': 'free'},\n",
       "  {'name': 'searchcriterion', 'style': 'query', 'type': 'xs:string', 'default': 'Code'},\n",
       "  {'name': 'sortcriterion', 'style': 'query', 'type': 'xs:string', 'default': 'Name'},\n",
       "  {'name': 'type', 'style': 'query', 'type': 'xs:string', 'default': 'Alle'}]}"
      ]
     },
     "execution_count": 5,
     "metadata": {},
     "output_type": "execute_result"
    }
   ],
   "source": [
    "gc.api_info(['catalogue','variables'])"
   ]
  },
  {
   "cell_type": "markdown",
   "metadata": {},
   "source": [
    "# *catalogue/variables* endpoint API request"
   ]
  },
  {
   "cell_type": "code",
   "execution_count": 6,
   "metadata": {},
   "outputs": [
    {
     "data": {
      "text/plain": [
       "{'Ident': {'Service': 'catalogue', 'Method': 'variables'},\n",
       " 'Status': {'Code': 22,\n",
       "  'Content': 'erfolgreich (Mindestens ein Parameter enthält ungültige Werte. Er wurde angepasst, um den Service starten zu können.: sortcriterion)',\n",
       "  'Type': 'Warnung'},\n",
       " 'Parameter': {'username': '********************',\n",
       "  'password': '********************',\n",
       "  'selection': '',\n",
       "  'area': 'Öffentlich',\n",
       "  'searchcriterion': 'Code',\n",
       "  'sortcriterion': 'Code',\n",
       "  'type': 'Alle',\n",
       "  'pagelength': '5',\n",
       "  'language': 'de'},\n",
       " 'List': [{'Code': 'ABF001',\n",
       "   'Content': 'Input von Abfallentsorgungsanlagen',\n",
       "   'Type': 'Wert',\n",
       "   'Values': '-1',\n",
       "   'Information': 'false'},\n",
       "  {'Code': 'ABF002',\n",
       "   'Content': 'Im eigenen Betrieb erzeugte Abfälle',\n",
       "   'Type': 'Wert',\n",
       "   'Values': '-1',\n",
       "   'Information': 'false'},\n",
       "  {'Code': 'ABF003',\n",
       "   'Content': 'Aus dem Inland angelieferter Abfall',\n",
       "   'Type': 'Wert',\n",
       "   'Values': '-1',\n",
       "   'Information': 'false'},\n",
       "  {'Code': 'ABF004',\n",
       "   'Content': 'Aus dem Ausland angelieferter Abfall',\n",
       "   'Type': 'Wert',\n",
       "   'Values': '-1',\n",
       "   'Information': 'false'},\n",
       "  {'Code': 'ABF005',\n",
       "   'Content': 'Output von Abfallentsorgungsanlagen',\n",
       "   'Type': 'Wert',\n",
       "   'Values': '-1',\n",
       "   'Information': 'false'}],\n",
       " 'Copyright': '© Statistisches Bundesamt (Destatis), 2020'}"
      ]
     },
     "execution_count": 6,
     "metadata": {},
     "output_type": "execute_result"
    }
   ],
   "source": [
    "endpoint_output = gc.get_json(['catalogue','variables'],params={'pagelength':5})\n",
    "endpoint_output"
   ]
  },
  {
   "cell_type": "markdown",
   "metadata": {},
   "source": [
    "*catalogue* endpoints have a `List` atribute that can be directly converted into a DataFrame"
   ]
  },
  {
   "cell_type": "code",
   "execution_count": 7,
   "metadata": {},
   "outputs": [
    {
     "data": {
      "text/html": [
       "<div>\n",
       "<style scoped>\n",
       "    .dataframe tbody tr th:only-of-type {\n",
       "        vertical-align: middle;\n",
       "    }\n",
       "\n",
       "    .dataframe tbody tr th {\n",
       "        vertical-align: top;\n",
       "    }\n",
       "\n",
       "    .dataframe thead th {\n",
       "        text-align: right;\n",
       "    }\n",
       "</style>\n",
       "<table border=\"1\" class=\"dataframe\">\n",
       "  <thead>\n",
       "    <tr style=\"text-align: right;\">\n",
       "      <th></th>\n",
       "      <th>Code</th>\n",
       "      <th>Content</th>\n",
       "      <th>Type</th>\n",
       "      <th>Values</th>\n",
       "      <th>Information</th>\n",
       "    </tr>\n",
       "  </thead>\n",
       "  <tbody>\n",
       "    <tr>\n",
       "      <th>0</th>\n",
       "      <td>ABF001</td>\n",
       "      <td>Input von Abfallentsorgungsanlagen</td>\n",
       "      <td>Wert</td>\n",
       "      <td>-1</td>\n",
       "      <td>false</td>\n",
       "    </tr>\n",
       "    <tr>\n",
       "      <th>1</th>\n",
       "      <td>ABF002</td>\n",
       "      <td>Im eigenen Betrieb erzeugte Abfälle</td>\n",
       "      <td>Wert</td>\n",
       "      <td>-1</td>\n",
       "      <td>false</td>\n",
       "    </tr>\n",
       "    <tr>\n",
       "      <th>2</th>\n",
       "      <td>ABF003</td>\n",
       "      <td>Aus dem Inland angelieferter Abfall</td>\n",
       "      <td>Wert</td>\n",
       "      <td>-1</td>\n",
       "      <td>false</td>\n",
       "    </tr>\n",
       "    <tr>\n",
       "      <th>3</th>\n",
       "      <td>ABF004</td>\n",
       "      <td>Aus dem Ausland angelieferter Abfall</td>\n",
       "      <td>Wert</td>\n",
       "      <td>-1</td>\n",
       "      <td>false</td>\n",
       "    </tr>\n",
       "    <tr>\n",
       "      <th>4</th>\n",
       "      <td>ABF005</td>\n",
       "      <td>Output von Abfallentsorgungsanlagen</td>\n",
       "      <td>Wert</td>\n",
       "      <td>-1</td>\n",
       "      <td>false</td>\n",
       "    </tr>\n",
       "  </tbody>\n",
       "</table>\n",
       "</div>"
      ],
      "text/plain": [
       "     Code                               Content  Type Values Information\n",
       "0  ABF001    Input von Abfallentsorgungsanlagen  Wert     -1       false\n",
       "1  ABF002   Im eigenen Betrieb erzeugte Abfälle  Wert     -1       false\n",
       "2  ABF003   Aus dem Inland angelieferter Abfall  Wert     -1       false\n",
       "3  ABF004  Aus dem Ausland angelieferter Abfall  Wert     -1       false\n",
       "4  ABF005   Output von Abfallentsorgungsanlagen  Wert     -1       false"
      ]
     },
     "execution_count": 7,
     "metadata": {},
     "output_type": "execute_result"
    }
   ],
   "source": [
    "pd.DataFrame(endpoint_output['List'])"
   ]
  },
  {
   "cell_type": "markdown",
   "metadata": {},
   "source": [
    "## *data* endpoints\n",
    "*data* endpoints require some parameters to get results. The endpoits that\n",
    "don't relate to file downloads embed the results in the output json. Parsing the embeded\n",
    "*.csv* files is currently not impliemented in this client."
   ]
  },
  {
   "cell_type": "code",
   "execution_count": 8,
   "metadata": {},
   "outputs": [],
   "source": [
    "table_data = gc.get_json(['data','table'],{'name':'11111-0001','area':'all'})"
   ]
  },
  {
   "cell_type": "code",
   "execution_count": 9,
   "metadata": {},
   "outputs": [
    {
     "name": "stdout",
     "output_type": "stream",
     "text": [
      "GENESIS-Tabelle: 11111-0001\n",
      "Gebietsfläche: Bundesländer, Stichtag;\n",
      "Feststellung des Gebietsstands;\n",
      "Gebietsfläche (qkm);\n",
      ";Stichtag\n",
      ";31.12.2016\n",
      "Baden-Württemberg;35673,71\n",
      "Bayern;70542,03\n",
      "Berlin;891,12\n",
      "Brandenburg;29654,38\n",
      "Bremen;419,84\n",
      "Hamburg;755,09\n",
      "Hessen;21115,67\n",
      "Mecklenburg-Vorpommern;23292,73\n",
      "Niedersachsen;47709,83\n",
      "Nordrhein-Westfalen;34112,74\n",
      "Rheinland-Pfalz;19858,00\n",
      "Saarland;2571,10\n",
      "Sachsen;18449,99\n",
      "Sachsen-Anhalt;20452,14\n",
      "Schleswig-Holstein;15802,27\n",
      "Thüringen;16202,37\n",
      "Insgesamt;357578,17\n",
      "__________\n",
      "\"Gebietsfläche:\n",
      "Berlin (1995-2000):\n",
      "bezogen auf den Gebietsstand 01.01.2001.\n",
      "\n",
      "Rheinland-Pfalz:\n",
      "Landessumme ab 2004 einschließlich des Gebietes \"\"gemeinsames\n",
      "deutsch-luxemburgisches Hoheitsgebiet\"\" von 6,20 qkm.\n",
      "\n",
      "Sachsen (1995):\n",
      "bezogen auf den Gebietsstand 01.01.1996.\"\n",
      "© Statistisches Bundesamt (Destatis), 2020\n",
      "Stand: 31.12.2020 / 11:50:48\n",
      "\n"
     ]
    }
   ],
   "source": [
    "print(table_data['Object']['Content'])"
   ]
  },
  {
   "cell_type": "code",
   "execution_count": 10,
   "metadata": {},
   "outputs": [
    {
     "data": {
      "text/plain": [
       "['chart2result',\n",
       " 'timeseries',\n",
       " 'chart2table',\n",
       " 'chart2timeseries',\n",
       " 'cube',\n",
       " 'cubefile',\n",
       " 'map2result',\n",
       " 'map2table',\n",
       " 'map2timeseries',\n",
       " 'resultfile',\n",
       " 'tablefile',\n",
       " 'timeseriesfile',\n",
       " 'table',\n",
       " 'result']"
      ]
     },
     "execution_count": 10,
     "metadata": {},
     "output_type": "execute_result"
    }
   ],
   "source": [
    "gc.api_info(['data'])"
   ]
  },
  {
   "cell_type": "markdown",
   "metadata": {},
   "source": [
    "### File endpoints\n",
    "Some data endpoints provide a file download which requires a different method to download."
   ]
  },
  {
   "cell_type": "code",
   "execution_count": 11,
   "metadata": {},
   "outputs": [],
   "source": [
    " gc.get_file(['data','chart2table'],filename = 'test.png',params = {'name':'11111-0001','area':'all'})"
   ]
  },
  {
   "cell_type": "code",
   "execution_count": null,
   "metadata": {},
   "outputs": [],
   "source": []
  }
 ],
 "metadata": {
  "kernelspec": {
   "display_name": "genesispy",
   "language": "python",
   "name": "genesispy"
  },
  "language_info": {
   "codemirror_mode": {
    "name": "ipython",
    "version": 3
   },
   "file_extension": ".py",
   "mimetype": "text/x-python",
   "name": "python",
   "nbconvert_exporter": "python",
   "pygments_lexer": "ipython3",
   "version": "3.8.6"
  }
 },
 "nbformat": 4,
 "nbformat_minor": 4
}
